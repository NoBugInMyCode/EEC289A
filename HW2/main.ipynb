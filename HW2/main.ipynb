{
 "cells": [
  {
   "cell_type": "code",
   "execution_count": 32,
   "metadata": {},
   "outputs": [
    {
     "name": "stderr",
     "output_type": "stream",
     "text": [
      "  0%|          | 0/4087 [27:56<?, ?it/s]\n",
      "  0%|          | 0/4087 [22:50<?, ?it/s]\n",
      "  0%|          | 0/4087 [22:12<?, ?it/s]\n"
     ]
    },
    {
     "ename": "ModuleNotFoundError",
     "evalue": "No module named 'scipy'",
     "output_type": "error",
     "traceback": [
      "\u001b[0;31m---------------------------------------------------------------------------\u001b[0m",
      "\u001b[0;31mModuleNotFoundError\u001b[0m                       Traceback (most recent call last)",
      "Cell \u001b[0;32mIn[32], line 3\u001b[0m\n\u001b[1;32m      1\u001b[0m \u001b[38;5;28;01mimport\u001b[39;00m\u001b[38;5;250m \u001b[39m\u001b[38;5;21;01mnumpy\u001b[39;00m\u001b[38;5;250m \u001b[39m\u001b[38;5;28;01mas\u001b[39;00m\u001b[38;5;250m \u001b[39m\u001b[38;5;21;01mnp\u001b[39;00m\n\u001b[1;32m      2\u001b[0m \u001b[38;5;28;01mimport\u001b[39;00m\u001b[38;5;250m \u001b[39m\u001b[38;5;21;01mcv2\u001b[39;00m\n\u001b[0;32m----> 3\u001b[0m \u001b[38;5;28;01mfrom\u001b[39;00m\u001b[38;5;250m \u001b[39m\u001b[38;5;21;01mscipy\u001b[39;00m\u001b[38;5;21;01m.\u001b[39;00m\u001b[38;5;21;01mndimage\u001b[39;00m\u001b[38;5;250m \u001b[39m\u001b[38;5;28;01mimport\u001b[39;00m gaussian_filter\n\u001b[1;32m      4\u001b[0m \u001b[38;5;28;01mfrom\u001b[39;00m\u001b[38;5;250m \u001b[39m\u001b[38;5;21;01mqueue\u001b[39;00m\u001b[38;5;250m \u001b[39m\u001b[38;5;28;01mimport\u001b[39;00m Queue\n\u001b[1;32m      5\u001b[0m \u001b[38;5;28;01mfrom\u001b[39;00m\u001b[38;5;250m \u001b[39m\u001b[38;5;21;01mtqdm\u001b[39;00m\u001b[38;5;250m \u001b[39m\u001b[38;5;28;01mimport\u001b[39;00m tqdm\n",
      "\u001b[0;31mModuleNotFoundError\u001b[0m: No module named 'scipy'"
     ]
    }
   ],
   "source": [
    "import numpy as np\n",
    "import cv2\n",
    "# from scipy.ndimage import gaussian_filter\n",
    "from queue import Queue\n",
    "from tqdm import tqdm\n",
    "\n",
    "def efros_leung_synthesis(sample_img, output_size, window_size, threshold=0.1, gaussian_sigma=1.0):\n",
    "    # Convert sample to grayscale if needed\n",
    "    if len(sample_img.shape) > 2:\n",
    "        sample_img = cv2.cvtColor(sample_img, cv2.COLOR_BGR2GRAY)\n",
    "    \n",
    "    H, W = sample_img.shape\n",
    "    h_out, w_out = output_size\n",
    "    \n",
    "    # Initialize output with a random 3x3 seed from the sample\n",
    "    output = np.zeros((h_out, w_out), dtype=np.uint8)\n",
    "    seed_y = np.random.randint(H - 3)\n",
    "    seed_x = np.random.randint(W - 3)\n",
    "    output[:3, :3] = sample_img[seed_y:seed_y+3, seed_x:seed_x+3]\n",
    "    \n",
    "    # Gaussian kernel for weighting\n",
    "    kernel = np.zeros((window_size, window_size))\n",
    "    center = (window_size // 2, window_size // 2)\n",
    "    for y in range(window_size):\n",
    "        for x in range(window_size):\n",
    "            kernel[y, x] = np.exp(-((y - center[0])**2 + (x - center[1])**2) / (2 * gaussian_sigma**2))\n",
    "    kernel /= kernel.sum()\n",
    "    \n",
    "    # Priority queue for synthesis order (pixels adjacent to the seed)\n",
    "    q = Queue()\n",
    "    # Add pixels to the right and below the 3x3 seed\n",
    "    for y in range(3):\n",
    "        if 3 < w_out:\n",
    "            q.put((y, 3))  # Right edge\n",
    "    for x in range(3):\n",
    "        if 3 < h_out:\n",
    "            q.put((3, x))  # Bottom edge\n",
    "    \n",
    "    # Precompute all sample windows\n",
    "    sample_windows = []\n",
    "    for y in range(H - window_size + 1):\n",
    "        for x in range(W - window_size + 1):\n",
    "            sample_windows.append(sample_img[y:y+window_size, x:x+window_size])\n",
    "    \n",
    "    # Track synthesized pixels to avoid reprocessing\n",
    "    synthesized_mask = np.zeros((h_out, w_out), dtype=bool)\n",
    "    synthesized_mask[:3, :3] = True  # Mark seed as synthesized\n",
    "    \n",
    "    # Synthesize pixels\n",
    "    with tqdm(total=h_out * w_out - 9) as pbar:\n",
    "        while not q.empty():\n",
    "            y, x = q.get()\n",
    "            \n",
    "            if synthesized_mask[y, x]:\n",
    "                continue  # Skip already synthesized\n",
    "            \n",
    "            # Extract neighborhood (only known pixels)\n",
    "            neighborhood = np.zeros((window_size, window_size))\n",
    "            mask = np.zeros((window_size, window_size), dtype=bool)\n",
    "            for dy in range(-window_size//2, window_size//2 + 1):\n",
    "                for dx in range(-window_size//2, window_size//2 + 1):\n",
    "                    ny = y + dy\n",
    "                    nx = x + dx\n",
    "                    if 0 <= ny < h_out and 0 <= nx < w_out and synthesized_mask[ny, nx]:\n",
    "                        neighborhood[dy + window_size//2, dx + window_size//2] = output[ny, nx]\n",
    "                        mask[dy + window_size//2, dx + window_size//2] = True\n",
    "            \n",
    "            # Skip if no known pixels\n",
    "            if not mask.any():\n",
    "                q.put((y, x))  # Requeue for later\n",
    "                continue\n",
    "            \n",
    "            # Compute distances to sample windows\n",
    "            min_dist = float('inf')\n",
    "            best_matches = []\n",
    "            for sw in sample_windows:\n",
    "                # Compute Gaussian-weighted SSD over known pixels\n",
    "                diff = (neighborhood[mask] - sw[mask]) ** 2\n",
    "                dist = np.sum(diff * kernel[mask]) / np.sum(mask)\n",
    "                if dist < min_dist:\n",
    "                    min_dist = dist\n",
    "                    best_matches = [sw]\n",
    "                elif dist == min_dist:\n",
    "                    best_matches.append(sw)\n",
    "            \n",
    "            # Find all matches within threshold\n",
    "            valid_matches = [sw for sw in best_matches if min_dist <= threshold]\n",
    "            if not valid_matches:\n",
    "                valid_matches = best_matches  # Fallback to best match\n",
    "            \n",
    "            # Randomly select a match and assign its center\n",
    "            selected = valid_matches[np.random.randint(len(valid_matches))]\n",
    "            cy, cx = window_size//2, window_size//2\n",
    "            output[y, x] = selected[cy, cx]\n",
    "            synthesized_mask[y, x] = True\n",
    "            pbar.update(1)\n",
    "            \n",
    "            # Add unsynthesized neighbors to the queue\n",
    "            for dy, dx in [(-1, 0), (1, 0), (0, -1), (0, 1)]:\n",
    "                ny, nx = y + dy, x + dx\n",
    "                if 0 <= ny < h_out and 0 <= nx < w_out and not synthesized_mask[ny, nx]:\n",
    "                    q.put((ny, nx))\n",
    "    \n",
    "    return output"
   ]
  },
  {
   "cell_type": "code",
   "execution_count": 31,
   "metadata": {},
   "outputs": [
    {
     "name": "stdout",
     "output_type": "stream",
     "text": [
      "256 256 8\n"
     ]
    },
    {
     "name": "stderr",
     "output_type": "stream",
     "text": [
      "\n",
      "\n",
      "  0%|          | 0/65527 [00:00<?, ?it/s]"
     ]
    },
    {
     "name": "stdout",
     "output_type": "stream",
     "text": [
      "already synthesized 0 0\n",
      "already synthesized 0 1\n",
      "already synthesized 0 2\n",
      "already synthesized 1 0\n",
      "already synthesized 1 2\n",
      "already synthesized 2 0\n",
      "already synthesized 2 1\n",
      "already synthesized 2 2\n"
     ]
    },
    {
     "name": "stderr",
     "output_type": "stream",
     "text": [
      "\n"
     ]
    },
    {
     "data": {
      "text/plain": [
       "True"
      ]
     },
     "execution_count": 31,
     "metadata": {},
     "output_type": "execute_result"
    }
   ],
   "source": [
    "# Load sample texture\n",
    "sample = cv2.imread('./images/1.png', cv2.IMREAD_GRAYSCALE)\n",
    "\n",
    "# Synthesize a 128x128 texture with window_size=11\n",
    "synthesized = efros_leung_synthesis(sample, (256, 256), window_size=11, threshold=0.1)\n",
    "\n",
    "# Save result\n",
    "cv2.imwrite('synthesized_texture.jpg', synthesized)"
   ]
  }
 ],
 "metadata": {
  "kernelspec": {
   "display_name": "289A",
   "language": "python",
   "name": "python3"
  },
  "language_info": {
   "codemirror_mode": {
    "name": "ipython",
    "version": 3
   },
   "file_extension": ".py",
   "mimetype": "text/x-python",
   "name": "python",
   "nbconvert_exporter": "python",
   "pygments_lexer": "ipython3",
   "version": "3.10.12"
  }
 },
 "nbformat": 4,
 "nbformat_minor": 2
}
